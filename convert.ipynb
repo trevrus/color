{
 "cells": [
  {
   "cell_type": "code",
   "execution_count": 74,
   "metadata": {},
   "outputs": [],
   "source": [
    "import pandas as pd\n",
    "\n"
   ]
  },
  {
   "cell_type": "code",
   "execution_count": 89,
   "metadata": {},
   "outputs": [],
   "source": [
    "df = pd.read_csv('./decks_csv/CLV/clv_artisan.csv')"
   ]
  },
  {
   "cell_type": "code",
   "execution_count": 80,
   "metadata": {},
   "outputs": [],
   "source": [
    "# add a column for maunfacturer\n",
    "df['manufacturer'] = 'Cloverdale Paint'"
   ]
  },
  {
   "cell_type": "code",
   "execution_count": 90,
   "metadata": {},
   "outputs": [],
   "source": [
    "# convert colorCode to string\n",
    "df['colorCode'] = df['colorCode'].map(lambda x: str(x))"
   ]
  },
  {
   "cell_type": "code",
   "execution_count": 92,
   "metadata": {},
   "outputs": [],
   "source": [
    "# prefix colorCode with 0s (only needed for Cloverdale Paint)\n",
    "def prefixCodeWith0(code):\n",
    "    if len(code) == 1:\n",
    "        return '000' + code\n",
    "    elif len(code) == 2:\n",
    "        return '00' + code\n",
    "    elif len(code) == 3:\n",
    "        return '0' + code\n",
    "    return code\n",
    "\n",
    "df['colorCode'] = df['colorCode'].map(prefixCodeWith0)"
   ]
  },
  {
   "cell_type": "code",
   "execution_count": 93,
   "metadata": {},
   "outputs": [],
   "source": [
    "# save to csv\n",
    "csv = df.to_csv('decks_csv/CLV/clv_artisan.csv', index=False)"
   ]
  },
  {
   "cell_type": "code",
   "execution_count": 73,
   "metadata": {},
   "outputs": [],
   "source": [
    "# convert csv to json\n",
    "df = pd.read_csv('decks_csv/SW/emerald_designer.csv')\n",
    "json = df.to_json('decks_json/SW/emerald_designer.json', orient='records')"
   ]
  },
  {
   "cell_type": "markdown",
   "metadata": {},
   "source": [
    "# Add manufacturer to each of the csv's"
   ]
  },
  {
   "cell_type": "code",
   "execution_count": 104,
   "metadata": {},
   "outputs": [],
   "source": [
    "sw = pd.read_csv('decks_csv/SW/emerald_designer.csv')\n",
    "sw['manufacturer'] = 'Sherwin Williams'\n",
    "sw.to_csv('decks_csv/SW/emerald_designer.csv', index=False)"
   ]
  },
  {
   "cell_type": "code",
   "execution_count": 120,
   "metadata": {},
   "outputs": [],
   "source": [
    "# merge all csvs into one\n",
    "df1 = pd.read_csv('decks_csv/BM/bm_affinity.csv')\n",
    "df2 = pd.read_csv('decks_csv/BM/bm_classics.csv', dtype={'colorCode': str})\n",
    "df3 = pd.read_csv('decks_csv/BM/bm_colour_preview.csv')\n",
    "df4 = pd.read_csv('decks_csv/BM/bm_designer_classics.csv')\n",
    "df5 = pd.read_csv('decks_csv/BM/bm_historical.csv')\n",
    "df6 = pd.read_csv('decks_csv/BM/bm_oc.csv')\n",
    "merged = pd.concat([df1, df2, df3, df4, df5, df6])"
   ]
  },
  {
   "cell_type": "code",
   "execution_count": 122,
   "metadata": {},
   "outputs": [],
   "source": [
    "merged.to_csv('decks_csv/BM/all_bm.csv', index=False)"
   ]
  },
  {
   "cell_type": "code",
   "execution_count": 116,
   "metadata": {},
   "outputs": [],
   "source": [
    "cls = pd.read_csv('decks_csv/BM/bm_classics.csv')\n",
    "\n",
    "def prefixCodeWith0(code):\n",
    "    code = str(code)  \n",
    "    if len(code) == 1:\n",
    "        return '00' + code\n",
    "    elif len(code) == 2:\n",
    "        return '0' + code\n",
    "    return code\n",
    "\n",
    "cls['colorCode'] = cls['colorCode'].map(prefixCodeWith0)\n",
    "cls.to_csv('decks_csv/BM/bm_classics.csv', index=False)"
   ]
  },
  {
   "cell_type": "code",
   "execution_count": 125,
   "metadata": {},
   "outputs": [],
   "source": [
    "bm = pd.read_csv('decks_csv/BM/all_bm.csv')\n",
    "clv = pd.read_csv('decks_csv/CLV/clv_artisan.csv', dtype={'colorCode': str})\n",
    "sw = pd.read_csv('decks_csv/SW/all_sw.csv')\n",
    "master = pd.concat([bm, clv, sw])\n",
    "master.to_csv('decks_csv/master.csv', index=False)"
   ]
  }
 ],
 "metadata": {
  "kernelspec": {
   "display_name": "Data Science Env",
   "language": "python",
   "name": "dsc-kit"
  },
  "language_info": {
   "codemirror_mode": {
    "name": "ipython",
    "version": 3
   },
   "file_extension": ".py",
   "mimetype": "text/x-python",
   "name": "python",
   "nbconvert_exporter": "python",
   "pygments_lexer": "ipython3",
   "version": "3.10.8"
  }
 },
 "nbformat": 4,
 "nbformat_minor": 2
}
